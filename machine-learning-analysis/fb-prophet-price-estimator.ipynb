{
 "cells": [
  {
   "cell_type": "markdown",
   "id": "1986159d",
   "metadata": {},
   "source": [
    "# Lets predict the price using FACEBOOK PROPHET"
   ]
  },
  {
   "cell_type": "markdown",
   "id": "9180efac",
   "metadata": {},
   "source": [
    "Here, we don't need to think about the dataset's stationarity or seasonality. The model is smart enough to predict the values of its own."
   ]
  },
  {
   "cell_type": "markdown",
   "id": "a549a563",
   "metadata": {},
   "source": [
    "The strategy, here, will be quite straight forward.\n",
    "- We will make a train test split.\n",
    "- Will train our model accordingly.\n",
    "- Will test it for RMSE and R-Squared Error."
   ]
  },
  {
   "cell_type": "markdown",
   "id": "1bc578a2",
   "metadata": {},
   "source": [
    "#### Step 0: Import Necessary Packages"
   ]
  },
  {
   "cell_type": "code",
   "execution_count": 201,
   "id": "3ae96d80",
   "metadata": {},
   "outputs": [],
   "source": [
    "from tabulate import tabulate\n",
    "import pandas as pd\n",
    "import numpy as np\n",
    "import matplotlib.pyplot as plt\n",
    "from sklearn.metrics import mean_squared_error\n",
    "from sklearn.metrics import r2_score\n",
    "from prophet import Prophet"
   ]
  },
  {
   "cell_type": "markdown",
   "id": "65a48536",
   "metadata": {},
   "source": [
    "#### Step 1: Prepare Dataset"
   ]
  },
  {
   "cell_type": "markdown",
   "id": "803fcdd5",
   "metadata": {},
   "source": [
    "Import dataset"
   ]
  },
  {
   "cell_type": "code",
   "execution_count": 202,
   "id": "3336774f",
   "metadata": {},
   "outputs": [
    {
     "data": {
      "text/html": [
       "<div>\n",
       "<style scoped>\n",
       "    .dataframe tbody tr th:only-of-type {\n",
       "        vertical-align: middle;\n",
       "    }\n",
       "\n",
       "    .dataframe tbody tr th {\n",
       "        vertical-align: top;\n",
       "    }\n",
       "\n",
       "    .dataframe thead th {\n",
       "        text-align: right;\n",
       "    }\n",
       "</style>\n",
       "<table border=\"1\" class=\"dataframe\">\n",
       "  <thead>\n",
       "    <tr style=\"text-align: right;\">\n",
       "      <th></th>\n",
       "      <th>Date</th>\n",
       "      <th>Close</th>\n",
       "      <th>Volume</th>\n",
       "    </tr>\n",
       "  </thead>\n",
       "  <tbody>\n",
       "    <tr>\n",
       "      <th>0</th>\n",
       "      <td>2007-06-01</td>\n",
       "      <td>16.945208</td>\n",
       "      <td>2299400.0</td>\n",
       "    </tr>\n",
       "    <tr>\n",
       "      <th>1</th>\n",
       "      <td>2007-06-04</td>\n",
       "      <td>16.329809</td>\n",
       "      <td>5692700.0</td>\n",
       "    </tr>\n",
       "    <tr>\n",
       "      <th>2</th>\n",
       "      <td>2007-06-05</td>\n",
       "      <td>16.425148</td>\n",
       "      <td>4510000.0</td>\n",
       "    </tr>\n",
       "    <tr>\n",
       "      <th>3</th>\n",
       "      <td>2007-06-06</td>\n",
       "      <td>16.407816</td>\n",
       "      <td>2595300.0</td>\n",
       "    </tr>\n",
       "    <tr>\n",
       "      <th>4</th>\n",
       "      <td>2007-06-07</td>\n",
       "      <td>16.017773</td>\n",
       "      <td>3062100.0</td>\n",
       "    </tr>\n",
       "  </tbody>\n",
       "</table>\n",
       "</div>"
      ],
      "text/plain": [
       "         Date      Close     Volume\n",
       "0  2007-06-01  16.945208  2299400.0\n",
       "1  2007-06-04  16.329809  5692700.0\n",
       "2  2007-06-05  16.425148  4510000.0\n",
       "3  2007-06-06  16.407816  2595300.0\n",
       "4  2007-06-07  16.017773  3062100.0"
      ]
     },
     "execution_count": 202,
     "metadata": {},
     "output_type": "execute_result"
    }
   ],
   "source": [
    "df = pd.read_csv('../data/dal_final.csv')\n",
    "df.head()"
   ]
  },
  {
   "cell_type": "markdown",
   "id": "1a082ab3",
   "metadata": {},
   "source": [
    "Impose naming convention of Prophet"
   ]
  },
  {
   "cell_type": "code",
   "execution_count": 203,
   "id": "9f8237cb",
   "metadata": {},
   "outputs": [
    {
     "data": {
      "text/html": [
       "<div>\n",
       "<style scoped>\n",
       "    .dataframe tbody tr th:only-of-type {\n",
       "        vertical-align: middle;\n",
       "    }\n",
       "\n",
       "    .dataframe tbody tr th {\n",
       "        vertical-align: top;\n",
       "    }\n",
       "\n",
       "    .dataframe thead th {\n",
       "        text-align: right;\n",
       "    }\n",
       "</style>\n",
       "<table border=\"1\" class=\"dataframe\">\n",
       "  <thead>\n",
       "    <tr style=\"text-align: right;\">\n",
       "      <th></th>\n",
       "      <th>index</th>\n",
       "      <th>ds</th>\n",
       "      <th>y</th>\n",
       "      <th>Volume</th>\n",
       "    </tr>\n",
       "  </thead>\n",
       "  <tbody>\n",
       "    <tr>\n",
       "      <th>0</th>\n",
       "      <td>0</td>\n",
       "      <td>2007-06-01</td>\n",
       "      <td>16.945208</td>\n",
       "      <td>2299400.0</td>\n",
       "    </tr>\n",
       "    <tr>\n",
       "      <th>1</th>\n",
       "      <td>1</td>\n",
       "      <td>2007-06-04</td>\n",
       "      <td>16.329809</td>\n",
       "      <td>5692700.0</td>\n",
       "    </tr>\n",
       "    <tr>\n",
       "      <th>2</th>\n",
       "      <td>2</td>\n",
       "      <td>2007-06-05</td>\n",
       "      <td>16.425148</td>\n",
       "      <td>4510000.0</td>\n",
       "    </tr>\n",
       "    <tr>\n",
       "      <th>3</th>\n",
       "      <td>3</td>\n",
       "      <td>2007-06-06</td>\n",
       "      <td>16.407816</td>\n",
       "      <td>2595300.0</td>\n",
       "    </tr>\n",
       "    <tr>\n",
       "      <th>4</th>\n",
       "      <td>4</td>\n",
       "      <td>2007-06-07</td>\n",
       "      <td>16.017773</td>\n",
       "      <td>3062100.0</td>\n",
       "    </tr>\n",
       "  </tbody>\n",
       "</table>\n",
       "</div>"
      ],
      "text/plain": [
       "   index          ds          y     Volume\n",
       "0      0  2007-06-01  16.945208  2299400.0\n",
       "1      1  2007-06-04  16.329809  5692700.0\n",
       "2      2  2007-06-05  16.425148  4510000.0\n",
       "3      3  2007-06-06  16.407816  2595300.0\n",
       "4      4  2007-06-07  16.017773  3062100.0"
      ]
     },
     "execution_count": 203,
     "metadata": {},
     "output_type": "execute_result"
    }
   ],
   "source": [
    "df = df.reset_index().rename(columns={'Date': 'ds', 'Close': 'y'})\n",
    "df.head()"
   ]
  },
  {
   "cell_type": "markdown",
   "id": "53b457ae",
   "metadata": {},
   "source": [
    "Create a train test split"
   ]
  },
  {
   "cell_type": "code",
   "execution_count": 204,
   "id": "5cffdde7",
   "metadata": {},
   "outputs": [
    {
     "name": "stdout",
     "output_type": "stream",
     "text": [
      "+---------+---------------+--------------+----------------+\n",
      "| df_rows | train_df_rows | test_df_rows | equality_check |\n",
      "+---------+---------------+--------------+----------------+\n",
      "|  4280   |     3424      |     856      |      pass      |\n",
      "+---------+---------------+--------------+----------------+\n"
     ]
    }
   ],
   "source": [
    "train_test_split_pct    = 0.8 # 80% train and 20% test\n",
    "break_point             = int(0.8*df.shape[0])\n",
    "train_df                = df[:break_point]\n",
    "test_df                 = df[break_point:]\n",
    "df_rows                 = df.shape[0]\n",
    "train_df_rows           = train_df.shape[0]\n",
    "test_df_rows            = test_df.shape[0]\n",
    "equality_check          = \"pass\" if train_df_rows + test_df_rows == df_rows else \"fail\"\n",
    "print(tabulate([{\n",
    "    \"df_rows\": df_rows,\n",
    "    \"train_df_rows\": train_df_rows,\n",
    "    \"test_df_rows\": test_df_rows,\n",
    "    \"equality_check\": equality_check \n",
    "}], headers=\"keys\", tablefmt=\"pretty\"))"
   ]
  },
  {
   "cell_type": "code",
   "execution_count": 205,
   "id": "9a2a35de",
   "metadata": {},
   "outputs": [
    {
     "data": {
      "text/html": [
       "<div>\n",
       "<style scoped>\n",
       "    .dataframe tbody tr th:only-of-type {\n",
       "        vertical-align: middle;\n",
       "    }\n",
       "\n",
       "    .dataframe tbody tr th {\n",
       "        vertical-align: top;\n",
       "    }\n",
       "\n",
       "    .dataframe thead th {\n",
       "        text-align: right;\n",
       "    }\n",
       "</style>\n",
       "<table border=\"1\" class=\"dataframe\">\n",
       "  <thead>\n",
       "    <tr style=\"text-align: right;\">\n",
       "      <th></th>\n",
       "      <th>index</th>\n",
       "      <th>ds</th>\n",
       "      <th>y</th>\n",
       "      <th>Volume</th>\n",
       "    </tr>\n",
       "  </thead>\n",
       "  <tbody>\n",
       "    <tr>\n",
       "      <th>0</th>\n",
       "      <td>0</td>\n",
       "      <td>2007-06-01</td>\n",
       "      <td>16.945208</td>\n",
       "      <td>2299400.0</td>\n",
       "    </tr>\n",
       "  </tbody>\n",
       "</table>\n",
       "</div>"
      ],
      "text/plain": [
       "   index          ds          y     Volume\n",
       "0      0  2007-06-01  16.945208  2299400.0"
      ]
     },
     "execution_count": 205,
     "metadata": {},
     "output_type": "execute_result"
    }
   ],
   "source": [
    "train_df.head(1)"
   ]
  },
  {
   "cell_type": "code",
   "execution_count": 206,
   "id": "9d6d7e92",
   "metadata": {},
   "outputs": [
    {
     "data": {
      "text/html": [
       "<div>\n",
       "<style scoped>\n",
       "    .dataframe tbody tr th:only-of-type {\n",
       "        vertical-align: middle;\n",
       "    }\n",
       "\n",
       "    .dataframe tbody tr th {\n",
       "        vertical-align: top;\n",
       "    }\n",
       "\n",
       "    .dataframe thead th {\n",
       "        text-align: right;\n",
       "    }\n",
       "</style>\n",
       "<table border=\"1\" class=\"dataframe\">\n",
       "  <thead>\n",
       "    <tr style=\"text-align: right;\">\n",
       "      <th></th>\n",
       "      <th>index</th>\n",
       "      <th>ds</th>\n",
       "      <th>y</th>\n",
       "      <th>Volume</th>\n",
       "    </tr>\n",
       "  </thead>\n",
       "  <tbody>\n",
       "    <tr>\n",
       "      <th>3424</th>\n",
       "      <td>3424</td>\n",
       "      <td>2021-01-06</td>\n",
       "      <td>39.403313</td>\n",
       "      <td>12881100.0</td>\n",
       "    </tr>\n",
       "  </tbody>\n",
       "</table>\n",
       "</div>"
      ],
      "text/plain": [
       "      index          ds          y      Volume\n",
       "3424   3424  2021-01-06  39.403313  12881100.0"
      ]
     },
     "execution_count": 206,
     "metadata": {},
     "output_type": "execute_result"
    }
   ],
   "source": [
    "test_df.head(1)"
   ]
  },
  {
   "cell_type": "markdown",
   "id": "84ca0d02",
   "metadata": {},
   "source": [
    "#### Training the model"
   ]
  },
  {
   "cell_type": "code",
   "execution_count": 207,
   "id": "2d6123bb",
   "metadata": {},
   "outputs": [
    {
     "name": "stderr",
     "output_type": "stream",
     "text": [
      "18:20:16 - cmdstanpy - INFO - Chain [1] start processing\n",
      "18:20:17 - cmdstanpy - INFO - Chain [1] done processing\n"
     ]
    },
    {
     "data": {
      "text/plain": [
       "<prophet.forecaster.Prophet at 0x15ef8d17890>"
      ]
     },
     "execution_count": 207,
     "metadata": {},
     "output_type": "execute_result"
    }
   ],
   "source": [
    "model = Prophet(changepoint_prior_scale=0.005)\n",
    "model.fit(train_df)"
   ]
  },
  {
   "cell_type": "code",
   "execution_count": 208,
   "id": "342112b5",
   "metadata": {},
   "outputs": [
    {
     "data": {
      "text/plain": [
       "(856, 1)"
      ]
     },
     "execution_count": 208,
     "metadata": {},
     "output_type": "execute_result"
    }
   ],
   "source": [
    "future = pd.DataFrame({'ds': test_df['ds']})\n",
    "future.shape"
   ]
  },
  {
   "cell_type": "code",
   "execution_count": 209,
   "id": "affac51c",
   "metadata": {},
   "outputs": [],
   "source": [
    "forecast = model.predict(future)"
   ]
  },
  {
   "cell_type": "code",
   "execution_count": 210,
   "id": "4fa0a799",
   "metadata": {},
   "outputs": [
    {
     "data": {
      "image/png": "[encoded data removed]",
      "text/plain": [
       "<Figure size 1000x600 with 1 Axes>"
      ]
     },
     "metadata": {},
     "output_type": "display_data"
    }
   ],
   "source": [
    "model.plot(forecast)\n",
    "plt.show()"
   ]
  },
  {
   "cell_type": "code",
   "execution_count": 211,
   "id": "4b1dab24",
   "metadata": {},
   "outputs": [
    {
     "name": "stdout",
     "output_type": "stream",
     "text": [
      "7.5786148738606345\n"
     ]
    }
   ],
   "source": [
    "rmse = np.sqrt(mean_squared_error(test_df['y'], forecast['yhat']))\n",
    "print(rmse)"
   ]
  },
  {
   "cell_type": "markdown",
   "id": "59b66596",
   "metadata": {},
   "source": [
    "The RMSE number is quite high. The model is not that much recommended."
   ]
  },
  {
   "cell_type": "code",
   "execution_count": 212,
   "id": "a2c12969",
   "metadata": {},
   "outputs": [
    {
     "name": "stdout",
     "output_type": "stream",
     "text": [
      "-0.9731599094897199\n"
     ]
    }
   ],
   "source": [
    "r_squared = r2_score(test_df['y'], forecast['yhat'])\n",
    "print(r_squared)"
   ]
  },
  {
   "cell_type": "markdown",
   "id": "31dee2f9",
   "metadata": {},
   "source": [
    "This number is also bad due to the fact that if we take an absolute of the figure it is near 1."
   ]
  }
 ],
 "metadata": {
  "kernelspec": {
   "display_name": "venv",
   "language": "python",
   "name": "python3"
  },
  "language_info": {
   "codemirror_mode": {
    "name": "ipython",
    "version": 3
   },
   "file_extension": ".py",
   "mimetype": "text/x-python",
   "name": "python",
   "nbconvert_exporter": "python",
   "pygments_lexer": "ipython3",
   "version": "3.11.11"
  }
 },
 "nbformat": 4,
 "nbformat_minor": 5
}
