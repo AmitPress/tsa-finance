{
 "cells": [
  {
   "cell_type": "markdown",
   "id": "8f0ec28e",
   "metadata": {},
   "source": [
    "# Starting with Statistical Analysis\n",
    "##### In this notebook we will only use the statistical methods to find out the best statistical model that predicts the future market behavior.\n",
    "In this note, we will start with traditional `AR`, `MA` and the combination of two `ARMA` model.\n",
    "We are here to find out the parameters or lags for these models and then we will just put those parameters to the `ARIMA` model with an extra parameter which is responsible for integration."
   ]
  },
  {
   "cell_type": "markdown",
   "id": "d8495111",
   "metadata": {},
   "source": [
    "#### Step 0: Import Necessary Packages and Setup Meta Information Flow"
   ]
  },
  {
   "cell_type": "code",
   "execution_count": 13,
   "id": "7b049bfc",
   "metadata": {},
   "outputs": [],
   "source": [
    "from tabulate import tabulate\n",
    "import pandas as pd\n",
    "import numpy as np\n",
    "import matplotlib.pyplot as plt\n",
    "import statsmodels.api as sm\n"
   ]
  },
  {
   "cell_type": "code",
   "execution_count": 12,
   "id": "0d25beec",
   "metadata": {},
   "outputs": [],
   "source": [
    "import warnings\n",
    "warnings.simplefilter('ignore', FutureWarning)"
   ]
  },
  {
   "cell_type": "markdown",
   "id": "ddc0257b",
   "metadata": {},
   "source": [
    "#### Step 1: Import the final csv and process it further"
   ]
  },
  {
   "cell_type": "markdown",
   "id": "a9247fcd",
   "metadata": {},
   "source": [
    "Import the final csv file"
   ]
  },
  {
   "cell_type": "code",
   "execution_count": 6,
   "id": "90517989",
   "metadata": {},
   "outputs": [
    {
     "data": {
      "text/html": [
       "<div>\n",
       "<style scoped>\n",
       "    .dataframe tbody tr th:only-of-type {\n",
       "        vertical-align: middle;\n",
       "    }\n",
       "\n",
       "    .dataframe tbody tr th {\n",
       "        vertical-align: top;\n",
       "    }\n",
       "\n",
       "    .dataframe thead th {\n",
       "        text-align: right;\n",
       "    }\n",
       "</style>\n",
       "<table border=\"1\" class=\"dataframe\">\n",
       "  <thead>\n",
       "    <tr style=\"text-align: right;\">\n",
       "      <th></th>\n",
       "      <th>Date</th>\n",
       "      <th>Close</th>\n",
       "      <th>Volume</th>\n",
       "    </tr>\n",
       "  </thead>\n",
       "  <tbody>\n",
       "    <tr>\n",
       "      <th>0</th>\n",
       "      <td>2007-06-01</td>\n",
       "      <td>16.945204</td>\n",
       "      <td>2299400.0</td>\n",
       "    </tr>\n",
       "    <tr>\n",
       "      <th>1</th>\n",
       "      <td>2007-06-04</td>\n",
       "      <td>16.329803</td>\n",
       "      <td>5692700.0</td>\n",
       "    </tr>\n",
       "    <tr>\n",
       "      <th>2</th>\n",
       "      <td>2007-06-05</td>\n",
       "      <td>16.425152</td>\n",
       "      <td>4510000.0</td>\n",
       "    </tr>\n",
       "    <tr>\n",
       "      <th>3</th>\n",
       "      <td>2007-06-06</td>\n",
       "      <td>16.407814</td>\n",
       "      <td>2595300.0</td>\n",
       "    </tr>\n",
       "    <tr>\n",
       "      <th>4</th>\n",
       "      <td>2007-06-07</td>\n",
       "      <td>16.017771</td>\n",
       "      <td>3062100.0</td>\n",
       "    </tr>\n",
       "  </tbody>\n",
       "</table>\n",
       "</div>"
      ],
      "text/plain": [
       "         Date      Close     Volume\n",
       "0  2007-06-01  16.945204  2299400.0\n",
       "1  2007-06-04  16.329803  5692700.0\n",
       "2  2007-06-05  16.425152  4510000.0\n",
       "3  2007-06-06  16.407814  2595300.0\n",
       "4  2007-06-07  16.017771  3062100.0"
      ]
     },
     "execution_count": 6,
     "metadata": {},
     "output_type": "execute_result"
    }
   ],
   "source": [
    "df = pd.read_csv(\"../data/dal_final.csv\")\n",
    "df.head()"
   ]
  },
  {
   "cell_type": "markdown",
   "id": "114e3fd8",
   "metadata": {},
   "source": [
    "Perform a quick EDA"
   ]
  },
  {
   "cell_type": "code",
   "execution_count": 20,
   "id": "afd5abf7",
   "metadata": {},
   "outputs": [
    {
     "name": "stdout",
     "output_type": "stream",
     "text": [
      "<class 'pandas.core.frame.DataFrame'>\n",
      "RangeIndex: 4280 entries, 0 to 4279\n",
      "Data columns (total 3 columns):\n",
      " #   Column  Non-Null Count  Dtype  \n",
      "---  ------  --------------  -----  \n",
      " 0   Date    4280 non-null   object \n",
      " 1   Close   4280 non-null   float64\n",
      " 2   Volume  4280 non-null   float64\n",
      "dtypes: float64(2), object(1)\n",
      "memory usage: 100.4+ KB\n"
     ]
    }
   ],
   "source": [
    "df.info()"
   ]
  },
  {
   "cell_type": "markdown",
   "id": "7f5d00e3",
   "metadata": {},
   "source": [
    "As we see above, there is no null values and all other values are in 64 bit floating point format."
   ]
  },
  {
   "cell_type": "markdown",
   "id": "e3fdbb67",
   "metadata": {},
   "source": [
    "Implement a dicky-fuller testing function for stationarity"
   ]
  },
  {
   "cell_type": "code",
   "execution_count": 21,
   "id": "83ff6ee0",
   "metadata": {},
   "outputs": [],
   "source": [
    "def augmented_dicky_fuller_test(data):\n",
    "    result = sm.tsa.stattools.adfuller(data)\n",
    "    data = [{\n",
    "        \"ADF_STATISTIC\": f\"{result[0]:.4f}\",\n",
    "        \"P-VALUE\": f\"{result[1]:.4g}\",\n",
    "        \"LAG\": result[2],\n",
    "        \"Observations\": result[3],\n",
    "        \"1%\": f\"{result[4]['1%']:.4f}\",\n",
    "        \"LEFT_OF_1_PCT\": result[0] < result[4]['1%'],\n",
    "        \"5%\": f\"{result[4]['5%']:.4f}\",\n",
    "        \"10%\": f\"{result[4]['10%']:.4f}\"\n",
    "    }]\n",
    "    return tabulate(data, headers=\"keys\", tablefmt=\"pretty\")"
   ]
  },
  {
   "cell_type": "code",
   "execution_count": 22,
   "id": "66b31732",
   "metadata": {},
   "outputs": [
    {
     "name": "stdout",
     "output_type": "stream",
     "text": [
      "+---------------+---------+-----+--------------+---------+---------------+---------+---------+\n",
      "| ADF_STATISTIC | P-VALUE | LAG | Observations |   1%    | LEFT_OF_1_PCT |   5%    |   10%   |\n",
      "+---------------+---------+-----+--------------+---------+---------------+---------+---------+\n",
      "|    -1.4093    | 0.5778  | 11  |     4268     | -3.4319 |     False     | -2.8622 | -2.5671 |\n",
      "+---------------+---------+-----+--------------+---------+---------------+---------+---------+\n"
     ]
    }
   ],
   "source": [
    "# test the Closing Price aka market price\n",
    "print(augmented_dicky_fuller_test(df['Close']))"
   ]
  },
  {
   "cell_type": "code",
   "execution_count": 23,
   "id": "be415ca7",
   "metadata": {},
   "outputs": [
    {
     "name": "stdout",
     "output_type": "stream",
     "text": [
      "+---------------+-----------+-----+--------------+---------+---------------+---------+---------+\n",
      "| ADF_STATISTIC |  P-VALUE  | LAG | Observations |   1%    | LEFT_OF_1_PCT |   5%    |   10%   |\n",
      "+---------------+-----------+-----+--------------+---------+---------------+---------+---------+\n",
      "|    -4.9787    | 2.446e-05 | 25  |     4254     | -3.4319 |     True      | -2.8622 | -2.5671 |\n",
      "+---------------+-----------+-----+--------------+---------+---------------+---------+---------+\n"
     ]
    }
   ],
   "source": [
    "# test the price volume\n",
    "print(augmented_dicky_fuller_test(df['Volume']))"
   ]
  }
 ],
 "metadata": {
  "kernelspec": {
   "display_name": "venv",
   "language": "python",
   "name": "python3"
  },
  "language_info": {
   "codemirror_mode": {
    "name": "ipython",
    "version": 3
   },
   "file_extension": ".py",
   "mimetype": "text/x-python",
   "name": "python",
   "nbconvert_exporter": "python",
   "pygments_lexer": "ipython3",
   "version": "3.12.9"
  }
 },
 "nbformat": 4,
 "nbformat_minor": 5
}
